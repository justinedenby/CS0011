{
 "cells": [
  {
   "cell_type": "markdown",
   "metadata": {},
   "source": [
    "# object-orientated programming "
   ]
  },
  {
   "cell_type": "markdown",
   "metadata": {},
   "source": [
    "**procedural programming**: functions that perform specific tasks\n",
    "- focus: to create procedures that operate on the program's data\n",
    "- *functions and variables*"
   ]
  },
  {
   "cell_type": "markdown",
   "metadata": {},
   "source": [
    "***object oriented programming***: focused on creating objects\n",
    "- **object**: entity that contains data and procedures (data and code)\n",
    "- *data is known as **attributes** and procedures are known as **methods*** ----*methods perform operations on data attributes*\n",
    "- **encapsulation**: combining data and procedures into a single object"
   ]
  },
  {
   "cell_type": "markdown",
   "metadata": {},
   "source": [
    "- **data-hiding**: object's data attributes are hidden from code outside object\n",
    "------access restricted to the object's methods \n",
    "          ---> protects from accidental corruption\n",
    "- **object reusability**: the same object can be used in different programs"
   ]
  },
  {
   "cell_type": "markdown",
   "metadata": {},
   "source": [
    "- **data attributes**: define the state of an object -- ex. clock has second,minute,hour [public]\n",
    "- **public methods**: allow external code to manipulate the object -- ex. set_time\n",
    "- **private method**: used for object's inner workings -- ex. increment_second, make_alarm_sound\n",
    "- the clock should be incrementing the seconds and when the time matches the alarm time, the clock itself should make the alarm sound\n",
    "- public -> you can see the time; private -> you cannot control the speed of seconds"
   ]
  },
  {
   "cell_type": "markdown",
   "metadata": {},
   "source": [
    "classes\n",
    "- **class**: the code that specifies the data attributes and methods of a particular type of object -- type of blueprint, creates how the instance will look, doesnt take additional memory - \"a blueprint for a house that doesnt take up land\"\n",
    "\n",
    "- **instance**: an object created from a class -- create objects by *instantiating* classes -> similar to specific house built according to the blueprint or a specific cookie. \"every house made from a blueprint takes up land\""
   ]
  },
  {
   "cell_type": "markdown",
   "metadata": {},
   "source": [
    "class responsibilities\n",
    "- **class responsbility**: things that the class are responsible for knowing, the actions the class is responsible for doing\n",
    "- -> to find out a class's responsibilities look at the problem domain"
   ]
  },
  {
   "cell_type": "markdown",
   "metadata": {},
   "source": [
    "class creation\n",
    "- **class definitiion**: set of statements that define the class method and data attributes\n",
    "- `class Class_name:`\n",
    "- **method definition**: like any other python function defintion\n",
    "- --- *`self`* parameter: required in every method in the class -- references the specific object that the method is working on"
   ]
  },
  {
   "cell_type": "markdown",
   "metadata": {},
   "source": [
    "- **initializer method**: automatically executed when an instance of the class is created -> initialized object's attributes\n",
    "- `def __init__(self):`\n",
    "- usually the first method in a class created"
   ]
  },
  {
   "cell_type": "code",
   "execution_count": 1,
   "metadata": {},
   "outputs": [
    {
     "name": "stdout",
     "output_type": "stream",
     "text": [
      "RGT-4343\n",
      "vroom\n",
      "vroom\n",
      "vroom\n",
      "Current Speed: 15\n",
      "2014 Toyota Camry\n",
      "2010 Acura TL\n"
     ]
    }
   ],
   "source": [
    "class Car:\n",
    "    def __init__(self, model, make, year, license, color):\n",
    "        self.model=model\n",
    "        self.make=make\n",
    "        self.year=year\n",
    "        self.license=license\n",
    "        self.color=color\n",
    "        self.wheels=4\n",
    "        self.speed=0\n",
    "        self.maxSpeed=150\n",
    "    def rev(self):\n",
    "        print(\"vroom\")\n",
    "    def accelerate(self):\n",
    "        if self.speed<150:\n",
    "            self.speed +=5\n",
    "            self.rev()\n",
    "    def slowDown(self):\n",
    "        if self.speed>0:\n",
    "            self.speed-=5\n",
    "    def currentSpeed(self):\n",
    "        return self.speed\n",
    "    def printInfo(self):\n",
    "        print(self.year,self.make, self.model)\n",
    "    def getLicense(self):\n",
    "        return self.license\n",
    "    def getSpeed(self):\n",
    "        return self.speed\n",
    "    \n",
    "def main():\n",
    "    #model, make, year, license, color\n",
    "    myCar=Car(\"Camry\", \"Toyota\", 2014, \"RGT-4343\",\"Gray\")\n",
    "    print(myCar.getLicense())\n",
    "    myCar.accelerate()\n",
    "    myCar.accelerate()\n",
    "    myCar.accelerate()\n",
    "    myCar.getSpeed()\n",
    "    myCar.currentSpeed()\n",
    "    print(\"Current Speed:\", myCar.currentSpeed())\n",
    "\n",
    "    otherCar=Car(\"TL\",\"Acura\",2010,\"RNF-5476\",\"Black\")\n",
    "    myCar.printInfo()\n",
    "    otherCar.printInfo()\n",
    "\n",
    "main()"
   ]
  },
  {
   "cell_type": "markdown",
   "metadata": {},
   "source": [
    "accessor and mutator methods\n",
    "- **accessor methods**: [GET], return a value from a class's attribute WITHOUT changing it\n",
    "- **mutator methods**: [SET], store or change the value of a data attribute"
   ]
  },
  {
   "cell_type": "code",
   "execution_count": 18,
   "metadata": {},
   "outputs": [
    {
     "name": "stdout",
     "output_type": "stream",
     "text": [
      "available memory 10\n",
      "available memory 10\n",
      "this is a LG G3\n"
     ]
    }
   ],
   "source": [
    "class Smartphone:\n",
    "    def __init__(self, model, brand):\n",
    "        self.model=model\n",
    "        self.brand=brand\n",
    "        self.storage=10\n",
    "        self.contacts=[]\n",
    "    def getModel(self): #example of accessor -- already has access, no need for secondary argument\n",
    "        return self.model\n",
    "    def getBrand(self):\n",
    "        return self.brand\n",
    "    def getStorage(self):\n",
    "        return self.storage\n",
    "    def addContact(self, name, number):\n",
    "        self.contacts={\"name\":name, \"number\":number}\n",
    "\n",
    "        found=False\n",
    "        for person in self.contacts:\n",
    "            if person[\"name\"] == name:\n",
    "                print(\"Contact already in contacts\")\n",
    "                found=True\n",
    "            if not found:\n",
    "                if self.storage>0:\n",
    "                    self.contacts.append(contacts)\n",
    "                    self.storage-=1\n",
    "                else:\n",
    "                    print(\"cannot add contact. memory is full\")\n",
    "    def call(self, name):\n",
    "        found=False\n",
    "        for person in self.contacts:\n",
    "            if person[\"name\"] == name:\n",
    "                print(\"Calling\", name, person[\"number\"])\n",
    "                found=True\n",
    "\n",
    "    def __str__(self):\n",
    "        return \"this is a \"+self.model+\" \"+self.brand\n",
    "\n",
    "def main():\n",
    "    myPhone15=Smartphone(\"LG\",\"G3\")\n",
    "    print(\"available memory\", myPhone15.getStorage())\n",
    "    #myPhone15.addContact(input(\"Name: \"), input(\"Number: \"))\n",
    "    print(\"available memory\", myPhone15.getStorage())\n",
    "    myPhone15.call(\"Stonecold Steve Austin\")\n",
    "\n",
    "    print(myPhone15)\n",
    "main()"
   ]
  },
  {
   "cell_type": "markdown",
   "metadata": {},
   "source": [
    "\"private attributes\"\n",
    "- privated with `__x` or `__x__`\n",
    "- protects methods and attributes unless its an internal processes\n",
    "- can only be changed with the methods of that class"
   ]
  }
 ],
 "metadata": {
  "kernelspec": {
   "display_name": "\"Python/Mu (mu_venv-38-20230828-115040)\"",
   "language": "python",
   "name": "mu_venv-38-20230828-115040"
  },
  "language_info": {
   "codemirror_mode": {
    "name": "ipython",
    "version": 3
   },
   "file_extension": ".py",
   "mimetype": "text/x-python",
   "name": "python",
   "nbconvert_exporter": "python",
   "pygments_lexer": "ipython3",
   "version": "3.8.12"
  }
 },
 "nbformat": 4,
 "nbformat_minor": 2
}
