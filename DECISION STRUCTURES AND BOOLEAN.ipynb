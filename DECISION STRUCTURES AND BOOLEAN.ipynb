{
 "cells": [
  {
   "cell_type": "markdown",
   "metadata": {},
   "source": [
    "# **# DECISION STRUCTURES AND BOOLEANISM**"
   ]
  },
  {
   "cell_type": "markdown",
   "metadata": {},
   "source": [
    "== - are equal\n",
    "\n",
    "!= - are not equal\n",
    "\n",
    "\n",
    "< less than\n",
    "\n",
    "\">\" greater than\n",
    "\n",
    "\n",
    "<= less than or equal\n",
    "\n",
    "\">=\" greater than or equal "
   ]
  },
  {
   "cell_type": "code",
   "execution_count": 3,
   "metadata": {},
   "outputs": [
    {
     "name": "stdout",
     "output_type": "stream",
     "text": [
      "Average is 20.0\n",
      "good try\n",
      "end of program\n"
     ]
    }
   ],
   "source": [
    "exam1=float(input(\"Enter grade1: \"))\n",
    "exam2=float(input(\"Enter grade2: \"))\n",
    "exam3=float(input(\"Enter grade3: \"))\n",
    "average = (exam1+exam2+exam3)/3\n",
    "average = round(average, 1)\n",
    "\n",
    "print(\"Average is\", average)\n",
    "\n",
    "if  average>= 70:\n",
    "    print(\"Congrats!\")\n",
    "    print(\"You passed!\")\n",
    "else:\n",
    "    print(\"failed, good try\")\n",
    "print(\"end of program\")"
   ]
  },
  {
   "cell_type": "code",
   "execution_count": 7,
   "metadata": {},
   "outputs": [
    {
     "name": "stdout",
     "output_type": "stream",
     "text": [
      "105 is not divisible by  10\n"
     ]
    }
   ],
   "source": [
    "#tophat\n",
    "a=105\n",
    "b=10\n",
    "\n",
    "if a%b>0:\n",
    "    print(a ,'is not divisible by ',b)\n",
    "else:\n",
    "    print(a, 'is divisible by', b)\n",
    "\n",
    "    "
   ]
  },
  {
   "cell_type": "markdown",
   "metadata": {},
   "source": [
    "**COMPARING STRINGS**"
   ]
  },
  {
   "cell_type": "markdown",
   "metadata": {},
   "source": [
    "- case sensitive\n",
    "\n",
    "- compared with == and =! or <,>.>=,<=\n",
    "\n",
    "- alphabetical is backwards, father letters have higher number code in the asking table\n",
    "\n",
    "- lowercase is higher than uppercase"
   ]
  },
  {
   "cell_type": "code",
   "execution_count": 9,
   "metadata": {},
   "outputs": [
    {
     "name": "stdout",
     "output_type": "stream",
     "text": [
      "grape is greater than avocado\n"
     ]
    }
   ],
   "source": [
    "fruit1=\"avocado\"\n",
    "fruit2=\"grape\"\n",
    "if fruit1>fruit2:\n",
    "    print(fruit1, \"is greater than\", fruit2)\n",
    "else:\n",
    "    print(fruit2, \"is greater than\", fruit1)\n"
   ]
  },
  {
   "cell_type": "markdown",
   "metadata": {},
   "source": [
    "**if elif**"
   ]
  },
  {
   "cell_type": "markdown",
   "metadata": {},
   "source": [
    "- use \"else\" as catchall \n",
    "\n",
    "- as many elif's as needed\n",
    "\n",
    "- INDENTS MATTER"
   ]
  },
  {
   "cell_type": "code",
   "execution_count": 16,
   "metadata": {},
   "outputs": [
    {
     "name": "stdout",
     "output_type": "stream",
     "text": [
      "30.0 gal is equivalent to  113.55000000000001 liters\n"
     ]
    }
   ],
   "source": [
    "menu=\"\"\"\n",
    "Select an Option\n",
    "-------------------------\n",
    "1. km to miles\n",
    "2. miles to km\n",
    "3. gallons to liters\n",
    "4. liters to gallons\n",
    "5. exit\n",
    "-------------------------\n",
    "(1/2/3/4/5): \"\"\"\n",
    "\n",
    "uChoice=int(input(menu))\n",
    "\n",
    "if uChoice==1:\n",
    "    distance=float(input(\"enter distance (km)\"))\n",
    "    print(distance, \"km is equivalent to \", distance*0.621, \"miles\")\n",
    "elif uChoice==2:\n",
    "    distance=float(input(\"enter distance (mi)\"))\n",
    "    print(distance, \"miles is equivalent to \", distance/0.621, \"km\")\n",
    "elif uChoice==3:\n",
    "    volume=float(input(\"enter volume (gal)\"))\n",
    "    print(volume, \"gal is equivalent to \", volume*3.785, \"liters\")\n",
    "elif uChoice==4:\n",
    "    volume=float(input(\"enter volume (l)\"))\n",
    "    print(volume, \"liters is equivalent to \", volume/3.785, \"gal\")\n",
    "elif uChoice==5:\n",
    "    print(\"Exiting Program\")\n",
    "else:\n",
    "    print(\"invalid option!\")"
   ]
  },
  {
   "cell_type": "markdown",
   "metadata": {},
   "source": [
    "# **LOGICAL OPERATORS**"
   ]
  },
  {
   "cell_type": "markdown",
   "metadata": {},
   "source": [
    "- BOOLEAN -- true/false, yes/no\n",
    "1. not\n",
    "2. and\n",
    "3. or"
   ]
  },
  {
   "cell_type": "markdown",
   "metadata": {},
   "source": [
    "the **and** operator\n",
    "- compound boolean expression that is true when both expressions are true [only one false makes statement false]\n",
    "\n",
    "the **or** operator\n",
    "- statement is true when either expression is true\n",
    "\n",
    "the **not** operator\n",
    "- flips meaning of operation"
   ]
  },
  {
   "cell_type": "code",
   "execution_count": 25,
   "metadata": {},
   "outputs": [
    {
     "name": "stdout",
     "output_type": "stream",
     "text": [
      "success\n"
     ]
    }
   ],
   "source": [
    "username=input(\"enter username\")\n",
    "password=input(\"enter password\")\n",
    "\n",
    "if username==\"student\" and password==\"CS001X\":\n",
    "    print(\"success\")\n",
    "else:\n",
    "    username!=\"student\" and password!=\"CS001X\"\n",
    "    print(\"incorrect username or password\")\n",
    "    \n",
    "    "
   ]
  }
 ],
 "metadata": {
  "kernelspec": {
   "display_name": "\"Python/Mu (mu_venv-38-20230828-115040)\"",
   "language": "python",
   "name": "mu_venv-38-20230828-115040"
  },
  "language_info": {
   "codemirror_mode": {
    "name": "ipython",
    "version": 3
   },
   "file_extension": ".py",
   "mimetype": "text/x-python",
   "name": "python",
   "nbconvert_exporter": "python",
   "pygments_lexer": "ipython3",
   "version": "3.8.12"
  },
  "orig_nbformat": 4
 },
 "nbformat": 4,
 "nbformat_minor": 2
}
