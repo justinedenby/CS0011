{
 "cells": [
  {
   "cell_type": "markdown",
   "metadata": {},
   "source": [
    "# files"
   ]
  },
  {
   "cell_type": "markdown",
   "metadata": {},
   "source": [
    "- files stored on secondary storage\n",
    "- RAM is volatile (main); secondary like SSD, eMMC\n",
    "- I/O = files; inputs and outputs\n",
    "1. open\n",
    "2. process\n",
    "3. close"
   ]
  },
  {
   "cell_type": "markdown",
   "metadata": {},
   "source": [
    "- read only mode: r\n",
    "- writing: w\n",
    "- appending: a\n",
    "- read and write: r+\n",
    "- file_object=open(filename, mode)"
   ]
  },
  {
   "cell_type": "markdown",
   "metadata": {},
   "source": [
    "- start with write to a file\n",
    "- three step process\n",
    "- ****** if you write to a file that does not exist -- python will make it\n",
    "- but you open in write only mode in a file that already exists, data will be overwritten"
   ]
  },
  {
   "cell_type": "code",
   "execution_count": 2,
   "metadata": {},
   "outputs": [],
   "source": [
    "def main():\n",
    "    filename=input(\"enter a file name: \")\n",
    "    namesFile=open(filename, \"w\")\n",
    "    namesCount=int(input(\"How many bands do you want to add to\"+filename+\"?\"))\n",
    "    for iteration in range(namesCount):\n",
    "        name=input(\"enter a name: \")\n",
    "        namesFile.write(name+\"\\n\")\n",
    "    \n",
    "    namesFile.close()\n",
    "\n",
    "\n",
    "main()"
   ]
  },
  {
   "cell_type": "markdown",
   "metadata": {},
   "source": [
    "- if you want numbers in a file, you must convert the numbers into strings first"
   ]
  },
  {
   "cell_type": "code",
   "execution_count": 4,
   "metadata": {},
   "outputs": [],
   "source": [
    "from random import randint\n",
    "\n",
    "def main():\n",
    "    filename=input(\"enter a filename: \")\n",
    "    games=int(input(\"how many games should i generate? \"))\n",
    "    numberPerGame=int(input(\"how many numbers per game? \"))\n",
    "    floor = int(input(\"enter the lowest interval: \"))\n",
    "    ceiling=int(input(\"enter the highest interval: \"))\n",
    "\n",
    "    lotteryFile=open(filename, \"w\")\n",
    "    \n",
    "    for game in range(games):\n",
    "        for i in range(numberPerGame):\n",
    "            number=randint(floor, ceiling)\n",
    "            number=str(number)\n",
    "\n",
    "            lotteryFile.write(number+\" \")\n",
    "    lotteryFile.write(\"\\n\")\n",
    "\n",
    "    lotteryFile.close()\n",
    "main()"
   ]
  },
  {
   "cell_type": "code",
   "execution_count": 6,
   "metadata": {},
   "outputs": [],
   "source": [
    "from random import randint\n",
    "def main():\n",
    "    filename=input(\"enter file name: \")\n",
    "    numbersFile=open(filename, \"w\")\n",
    "    numberscount=int(input(\"enter how many numbers should i generate? \"))\n",
    "    floor=int(input(\"enter lower limit\"))\n",
    "    ceiling=int(input(\"enter upper limit\"))\n",
    "\n",
    "    for i in range(numberscount):\n",
    "        number=randint(floor, ceiling)\n",
    "        numbersFile.write(str(number)+\"\\n\")\n",
    "    numbersFile.close()\n",
    "main()"
   ]
  },
  {
   "cell_type": "code",
   "execution_count": 4,
   "metadata": {},
   "outputs": [
    {
     "name": "stdout",
     "output_type": "stream",
     "text": [
      "confirmed guests:\n",
      "elvis presley\n",
      "ice spice\n",
      "sidney crosby\n",
      "taylor swift\n",
      "jimmy butler\n",
      "prince\n",
      "king julian\n",
      "meals ordered: \n",
      "pizza 1\n",
      "hotdog 3\n",
      "vegetarian 3\n"
     ]
    }
   ],
   "source": [
    "def registerGuest():\n",
    "    filename = input(\"enter file name for guest registration: \")\n",
    "    guestsFile=open(filename, \"a\") #append mode -- does not overwrite an already made file\n",
    "    guestsCount=int(input(\"how many guests do you want to register? \"))\n",
    "    for count in range(guestsCount):\n",
    "        name=input(\"enter guest name: \")\n",
    "        meal = input(\"meal [1-pizza], [2-hotdog], [3-vegetarian]: \")\n",
    "        guestsFile.write(name+\"\\n\")\n",
    "        guestsFile.write(meal+\"\\n\")\n",
    "    guestsFile.close()\n",
    "\n",
    "def processGuestList(filename=None):\n",
    "    if filename == None:\n",
    "        filename=input(\"enter file with guest list: \")\n",
    "\n",
    "    pizza=0\n",
    "    hotdogs=0\n",
    "    vegetarian=0\n",
    "\n",
    "    guestsFile=open(filename, \"r\")\n",
    "    \n",
    "    line=guestsFile.readline()\n",
    "    print(\"confirmed guests:\")\n",
    "    while line != \"\": #while line is not EOF\n",
    "        name=line.rstrip() #removes spaces from the end of the line\n",
    "        print(name)\n",
    "        meal=guestsFile.readline().rstrip()\n",
    "        \n",
    "        if meal == \"1\":\n",
    "            pizza+=1\n",
    "        elif meal ==\"2\":\n",
    "            hotdogs+=1\n",
    "        else: \n",
    "            vegetarian+=1\n",
    "        line=guestsFile.readline()\n",
    "    guestsFile.close()\n",
    "    print(\"meals ordered: \")\n",
    "    print(\"pizza\", pizza)\n",
    "    print(\"hotdog\", hotdogs)\n",
    "    print(\"vegetarian\", vegetarian)\n",
    "\n",
    "\n",
    "def main():\n",
    "    #registerGuest()\n",
    "    processGuestList()\n",
    "main()"
   ]
  },
  {
   "cell_type": "code",
   "execution_count": null,
   "metadata": {},
   "outputs": [],
   "source": []
  }
 ],
 "metadata": {
  "kernelspec": {
   "display_name": "\"Python/Mu (mu_venv-38-20230828-115040)\"",
   "language": "python",
   "name": "mu_venv-38-20230828-115040"
  },
  "language_info": {
   "codemirror_mode": {
    "name": "ipython",
    "version": 3
   },
   "file_extension": ".py",
   "mimetype": "text/x-python",
   "name": "python",
   "nbconvert_exporter": "python",
   "pygments_lexer": "ipython3",
   "version": "3.8.12"
  }
 },
 "nbformat": 4,
 "nbformat_minor": 2
}
