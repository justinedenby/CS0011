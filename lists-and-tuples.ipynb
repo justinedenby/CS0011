{
 "cells": [
  {
   "cell_type": "markdown",
   "metadata": {},
   "source": [
    "# LISTS AND TUPLES"
   ]
  },
  {
   "cell_type": "markdown",
   "metadata": {},
   "source": [
    "- sequence: an object that contains multiple items of data\n",
    "- python different types of sequences:\n",
    "1. lists:    similar to array\n",
    "2. tuples:    simplified list"
   ]
  },
  {
   "cell_type": "markdown",
   "metadata": {},
   "source": [
    "how to make a list\n",
    "1. list = [item1, item2, etc.]\n",
    "- lists can hold item or not\n",
    "- lists can hold items of different types (numbers, strings, floats, etc.) \n",
    "- each item has a specific position in a list  ----> index\n",
    "----\n"
   ]
  },
  {
   "cell_type": "code",
   "execution_count": 16,
   "metadata": {},
   "outputs": [
    {
     "name": "stdout",
     "output_type": "stream",
     "text": [
      "there are 5 items in the list\n",
      "Steak\n",
      "Crab\n",
      "Pizza\n",
      "Wings\n",
      "Curry\n"
     ]
    }
   ],
   "source": [
    "def main():\n",
    "    favoriteFoods=[\"Steak\", \"Crab\", \"Pizza\", \"Wings\", \"Curry\"]\n",
    "    #print(favoriteFoods[-1]) #starts at 0, can use negatives to find ends easier\n",
    "    #for food in favoriteFoods:\n",
    "    #    print(food)\n",
    "    print(\"there are\", len(favoriteFoods), \"items in the list\")\n",
    "\n",
    "    #for i in range(len(favoriteFoods)):\n",
    "    #    print(favoriteFoods[i])\n",
    "\n",
    "    index=0\n",
    "    while index < len(favoriteFoods):\n",
    "        print(favoriteFoods[index])\n",
    "        index+=1\n",
    "\n",
    "    top3=favoriteFoods[:3] #slicing -- non-destructive/// [a,b] - B IS NOT INCLUDED\n",
    "    #print(top3)\n",
    "    #print(favoriteFoods[10]) - index out of bounds/error\n",
    "main()"
   ]
  },
  {
   "cell_type": "markdown",
   "metadata": {},
   "source": [
    "### repetition operation\n",
    "- makes multiple copies of a list and joins them together\n",
    "- list*n"
   ]
  },
  {
   "cell_type": "code",
   "execution_count": 13,
   "metadata": {},
   "outputs": [
    {
     "name": "stdout",
     "output_type": "stream",
     "text": [
      "[None, None, None, None, None, None, None, None, None, None]\n"
     ]
    }
   ],
   "source": [
    "top10List=[None]*10\n",
    "print(top10List)"
   ]
  },
  {
   "cell_type": "markdown",
   "metadata": {},
   "source": [
    "### differences\n",
    "- can contrain multiple types of values\n",
    "- are mutable -----> where strings are immutable\n",
    "- * cna be changed or mutated"
   ]
  },
  {
   "cell_type": "code",
   "execution_count": 8,
   "metadata": {},
   "outputs": [
    {
     "name": "stdout",
     "output_type": "stream",
     "text": [
      "['Steak', 'Crab', 'Pizza', 'M&Ms', 'Curry']\n",
      "['Steak', 'Crab', 'Pizza', 'M&Ms', 'Curry']\n"
     ]
    }
   ],
   "source": [
    "def editList(myList):\n",
    "    print(myList)\n",
    "    toReplace=input(\"which item to replace: \")\n",
    "    if toReplace in myList:   \n",
    "        for index in range(len(myList)):\n",
    "            if myList[index]==toReplace:\n",
    "                newValue=input(\"enter new value\")\n",
    "                myList[index]=newValue\n",
    "    return myList\n",
    "\n",
    "def main():\n",
    "    favoriteFoods=[\"Steak\", \"Crab\", \"Pizza\", \"Wings\", \"Curry\"]\n",
    "    #print(favoriteFoods)\n",
    "    favoriteFoods[3]=\"M&Ms\"\n",
    "    favoriteFoods=editList(favoriteFoods)\n",
    "    print(favoriteFoods)\n",
    "main()"
   ]
  },
  {
   "cell_type": "code",
   "execution_count": 5,
   "metadata": {},
   "outputs": [
    {
     "name": "stdout",
     "output_type": "stream",
     "text": [
      "myListA [1, 2, 3, 4] myListB [1, 2, 3, 4]\n",
      "myListA [1, 2, 3, 4] myListB [1, 2, 'green banana', 4]\n"
     ]
    }
   ],
   "source": [
    "\"\"\"myVarA=10\n",
    "myVarB=myVarA\n",
    "myVarA-=5\n",
    "print(\"myVarA\", myVarA, \"myVarB\", myVarB) \"\"\"\n",
    "\n",
    "myListA=[1,2,3,4]\n",
    "myListB= list(myListA) #***\n",
    "\n",
    "print(\"myListA\", myListA, \"myListB\", myListB)\n",
    "\n",
    "myListB[2]=\"green banana\"\n",
    "print(\"myListA\", myListA, \"myListB\", myListB)\n",
    "#proving that these are not making duplicates, it reflects in both lists\n",
    "#***grab original and concatinate to duplicate"
   ]
  },
  {
   "cell_type": "markdown",
   "metadata": {},
   "source": [
    "### copying list\n",
    "- either concatonate with:\n",
    "- variable + []\n",
    "- or list(variable)"
   ]
  },
  {
   "cell_type": "markdown",
   "metadata": {},
   "source": [
    "### methods\n",
    "- part of lists\n",
    "- dot notation\n",
    "1. append: one arugment, data to be added at END of list"
   ]
  },
  {
   "cell_type": "code",
   "execution_count": 4,
   "metadata": {},
   "outputs": [
    {
     "name": "stdout",
     "output_type": "stream",
     "text": [
      "1 - Zoe Mejia\n",
      "2 - Zelenia Stone\n",
      "3 - Zachery Howell\n",
      "4 - Yvonne Gillespie\n",
      "5 - Yoshio Trujillo\n",
      "6 - Yolanda Delaney\n",
      "7 - Yardley Mclean\n",
      "8 - Winter Washington\n",
      "9 - Wing Lambert\n",
      "10 - Wilma Manning\n",
      "11 - William Langley\n",
      "12 - Uta Nash\n",
      "13 - Urielle Rhodes\n",
      "14 - Thomas Duncan\n",
      "15 - Tamara Casey\n",
      "16 - Sybill Serrano\n",
      "17 - Stephen Mack\n",
      "18 - Sopoline Keller\n",
      "19 - Rose Conway\n",
      "20 - Richard Savage\n",
      "21 - Rhoda O'Neill\n",
      "22 - Rhiannon Middleton\n",
      "23 - Quynn Cooper\n",
      "24 - Quinn Chang\n",
      "25 - Quentin Miller\n",
      "26 - Portia Vasquez\n",
      "27 - Pascale Alexander\n",
      "28 - Oren Bridges\n",
      "29 - Odessa Hewitt\n",
      "30 - Nerea Wyatt\n",
      "31 - Nasim Reed\n",
      "32 - Michelle Dickson\n",
      "33 - Marshall Curtis\n",
      "34 - Mari Eaton\n",
      "35 - Margaret Baldwin\n",
      "36 - Marah Sharp\n",
      "37 - Malik Roth\n",
      "38 - Malcolm Phillips\n",
      "39 - Lydia Lyons\n",
      "40 - Lionel Atkins\n",
      "41 - Leandra Tyson\n",
      "42 - Lars Reese\n",
      "43 - Lars Drake\n",
      "44 - Lara Davidson\n",
      "45 - Kiara Gomez\n",
      "46 - Kevin Park\n",
      "47 - Karyn Horton\n",
      "48 - Karleigh Lowe\n",
      "49 - Jillian Heath\n",
      "50 - Jaquelyn Prince\n",
      "51 - Jane Miles\n",
      "52 - Jameson Parker\n",
      "53 - Jaime Jackson\n",
      "54 - Jack Steele\n",
      "55 - Ivy Gallegos\n",
      "56 - Isabella Schultz\n",
      "57 - Ina Buchanan\n",
      "58 - Ignatius Workman\n",
      "59 - Ignatius Conley\n",
      "60 - Hanae Hoover\n",
      "61 - Halee Hardy\n",
      "62 - Halee Allison\n",
      "63 - Griffin Coleman\n",
      "64 - Griffin Ball\n",
      "65 - Grant Zamora\n",
      "66 - Genevieve Estes\n",
      "67 - Garrison Trevino\n",
      "68 - Garrison Schmidt\n",
      "69 - Felix Kline\n",
      "70 - Farrah Villarreal\n",
      "71 - Farrah Marks\n",
      "72 - Emma Harrington\n",
      "73 - Emerson Harmon\n",
      "74 - Dorian Patton\n",
      "75 - Dieter Heath\n",
      "76 - Dennis Nichols\n",
      "77 - Debra Conrad\n",
      "78 - Dara Vaughan\n",
      "79 - Damian Pickett\n",
      "80 - Dacey Bentley\n",
      "81 - Cole Christian\n",
      "82 - Clinton Gross\n",
      "83 - Chastity Johnson\n",
      "84 - Charissa Johns\n",
      "85 - Chaim Phillips\n",
      "86 - Candice Cote\n",
      "87 - Buffy Malone\n",
      "88 - Britanney Morton\n",
      "89 - Bianca Mullen\n",
      "90 - Bevis Strong\n",
      "91 - Beverly Donovan\n",
      "92 - Audrey Cash\n",
      "93 - Arthur Vincent\n",
      "94 - Aristotle Allen\n",
      "95 - Ariel Pearson\n",
      "96 - Ariana Roth\n",
      "97 - Ariana Morin\n",
      "98 - Amity Bonner\n",
      "99 - Aline Montgomery\n",
      "100 - Alexander Duncan\n"
     ]
    }
   ],
   "source": [
    "def parseFile(filename):\n",
    "    myFile=open(filename,\"r\")\n",
    "    myList=[]\n",
    "\n",
    "    for line in myFile:\n",
    "        entry=line.strip()\n",
    "        myList.append(entry)\n",
    "    myFile.close\n",
    "    return myList\n",
    "\n",
    "def listItems(myList):\n",
    "    for index in range(len(myList)):\n",
    "        print(index+1,\"-\",myList[index])\n",
    "        if index>0 and (index+1)%10==0:\n",
    "            input(\"\\npress enter to continue\\n\")\n",
    "\n",
    "def editList(myList):\n",
    "    listItems(myList)\n",
    "    toReplace= input(\"which name would you like to replace? \")\n",
    "    if toReplace in myList:\n",
    "        index=myList.index(toReplace)\n",
    "        newValue=input(\"enter new value\")\n",
    "        myList[index]=newValue\n",
    "    else:\n",
    "        print(\"name not found\")\n",
    "    listItems(myList)\n",
    "    return myList\n",
    "\n",
    "def main():\n",
    "    filename=input(\"enter file containing list of names\")\n",
    "    #namesF=open(filename,\"r\")\n",
    "    namesList=parseFile(filename)\n",
    "    #namesList=editList(namesList)\n",
    "    namesList.sort()\n",
    "    namesList.reverse()\n",
    "    listItems(namesList)\n",
    "main()"
   ]
  },
  {
   "cell_type": "code",
   "execution_count": 7,
   "metadata": {},
   "outputs": [
    {
     "name": "stdout",
     "output_type": "stream",
     "text": [
      "['apple', 'banana', 'carrot', 'donut', 'egg', 'fondue', 'grapefruit']\n",
      "['apple', 'carrot', 'donut', 'egg', 'fondue', 'grapefruit']\n"
     ]
    }
   ],
   "source": [
    "def main():\n",
    "    foods=[\"apple\", \"banana\", \"carrot\", \"donut\", \"fondue\", \"grapefruit\"]\n",
    "    foods.insert(4, \"egg\")\n",
    "    print(foods)\n",
    "\n",
    "    toRemove=input(\"enter item to remove\")\n",
    "    if toRemove in foods:\n",
    "        foods.remove(toRemove) #value based -- del is index based\n",
    "    print(foods)\n",
    "\n",
    "\n",
    "main()"
   ]
  },
  {
   "cell_type": "markdown",
   "metadata": {},
   "source": [
    "functions\n",
    "- min and max\n",
    "- del vs .remove\n"
   ]
  },
  {
   "cell_type": "code",
   "execution_count": 14,
   "metadata": {},
   "outputs": [
    {
     "name": "stdout",
     "output_type": "stream",
     "text": [
      "[0.11, 0.13, 0.765, 0.964, 0.835, 0.347, 0.268, 0.219, 0.442, 0.113]\n",
      "largest 0.964\n",
      "smallest 0.11\n"
     ]
    }
   ],
   "source": [
    "from random import random\n",
    "def main():\n",
    "    numbers=[]\n",
    "    count=int(input(\"how many numbers should i generate? \"))\n",
    "    for i in range(count):\n",
    "        number=round(random(), 3)\n",
    "        numbers.append(number)\n",
    "    print(numbers)\n",
    "    print(\"largest\", max(numbers))\n",
    "    print(\"smallest\", min(numbers))\n",
    "\n",
    "main()"
   ]
  },
  {
   "cell_type": "markdown",
   "metadata": {},
   "source": [
    "### nested list\n",
    "NL=[['a','b','c'], ['d','e','f'],['g','h','i']]\n",
    "- print(NL[1][2])\n",
    "- prints: f\n",
    "\n"
   ]
  },
  {
   "cell_type": "code",
   "execution_count": null,
   "metadata": {},
   "outputs": [],
   "source": [
    "def processFile(filename):\n",
    "    moviesFile=open(filename, 'r')\n",
    "    moviesList=[]\n",
    "\n",
    "    for title in moviesFile:\n",
    "        movie=[]\n",
    "        title=title.strip()\n",
    "        year=moviesFile.readline()\n",
    "        year=year.strip\n",
    "        genre=moviesFile.readline()\n",
    "        genre=genre.strip\n",
    "\n",
    "        movie.append(title)\n",
    "        movie.append(year)\n",
    "        movie.append(genre)\n",
    "        moviesList.append(movie)\n",
    "    return moviesList\n",
    "\n",
    "\n",
    "def main():\n",
    "    filename=input(\"enter file containing the movies list: \")\n",
    "\n",
    "main()"
   ]
  },
  {
   "cell_type": "code",
   "execution_count": 10,
   "metadata": {},
   "outputs": [
    {
     "name": "stdout",
     "output_type": "stream",
     "text": [
      "Man in Black\n",
      "The Thing\n",
      "Super Bad\n",
      "Fight Club\n",
      "Oppenheimer\n",
      "Tropic Thunder\n"
     ]
    }
   ],
   "source": [
    "def processFile(filename):\n",
    "    moviesFile=open(filename, 'r')\n",
    "    moviesList=[]\n",
    "\n",
    "    for title in moviesFile:\n",
    "        title=title.strip()\n",
    "        year=moviesFile.readline().strip()\n",
    "        genre=moviesFile.readline().strip()\n",
    "\n",
    "        moviesList.append([title,year,genre])\n",
    "    return moviesList\n",
    "\n",
    "\n",
    "def getTitles(moviesList):\n",
    "    \"\"\"for movie in moviesList:\n",
    "        print(movie[0]) #prints just titles\"\"\"\n",
    "    for index in range (len(moviesList)):\n",
    "        print(moviesList[index][0]) #this is the same, just searching rows \n",
    "\n",
    "def main():\n",
    "    filename=input(\"enter file containing the movies list: \")\n",
    "    moviesList=processFile(filename)\n",
    "    #print(moviesList)\n",
    "    getTitles(moviesList)\n",
    "\n",
    "main()"
   ]
  },
  {
   "cell_type": "markdown",
   "metadata": {},
   "source": [
    "### tuples\n",
    "- use parenthesis"
   ]
  }
 ],
 "metadata": {
  "kernelspec": {
   "display_name": "\"Python/Mu (mu_venv-38-20230828-115040)\"",
   "language": "python",
   "name": "mu_venv-38-20230828-115040"
  },
  "language_info": {
   "codemirror_mode": {
    "name": "ipython",
    "version": 3
   },
   "file_extension": ".py",
   "mimetype": "text/x-python",
   "name": "python",
   "nbconvert_exporter": "python",
   "pygments_lexer": "ipython3",
   "version": "3.8.12"
  }
 },
 "nbformat": 4,
 "nbformat_minor": 2
}
