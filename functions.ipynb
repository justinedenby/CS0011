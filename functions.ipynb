{
 "cells": [
  {
   "cell_type": "markdown",
   "metadata": {},
   "source": [
    "# FUNCTIONS"
   ]
  },
  {
   "cell_type": "markdown",
   "metadata": {},
   "source": [
    ": group of statements within a program that performs a specific task\n",
    "- perform overall logic of program"
   ]
  },
  {
   "cell_type": "code",
   "execution_count": null,
   "metadata": {},
   "outputs": [],
   "source": [
    "def function_name(arg1,arg2):\n",
    "    \"statement\"\n",
    "    \"statement\""
   ]
  },
  {
   "cell_type": "markdown",
   "metadata": {},
   "source": [
    "- ord(\"A\"):65\n",
    "- ord(\"B\"):66\n",
    "- ord(\"Z\"):90\n",
    "\n",
    "- ord(\"a\"):97\n",
    "- ord(\"z\"):122\n",
    "- all 32 numbers away from each other [subtract 32 from code to convert]"
   ]
  },
  {
   "cell_type": "code",
   "execution_count": 15,
   "metadata": {},
   "outputs": [
    {
     "name": "stdout",
     "output_type": "stream",
     "text": [
      "Returned string from calling to lower <function toLower at 0x00000229D6447DC0>\n"
     ]
    }
   ],
   "source": [
    "from time import sleep\n",
    "def toUpper():\n",
    "    text= input(\"enter some text:\\n\")\n",
    "    result=\"\"\n",
    "    # codes \"a\"=97, \"A\"=65, \"z\"=122, \"Z\"=90\n",
    "    #between 97-122, are lowercase\n",
    "    for character in text:\n",
    "        #print(character)\n",
    "        code=ord(character)\n",
    "        if 97<=code<=122:\n",
    "            code-=32\n",
    "            character=chr(code) #converts numeric code [ascii] into character\n",
    "\n",
    "        result+=character\n",
    "    #print(result)\n",
    "    return result\n",
    "\n",
    "def toLower():\n",
    "    text= input(\"enter some text:\\n\")\n",
    "    result=\"\"\n",
    "    # codes \"a\"=97, \"A\"=65, \"z\"=122, \"Z\"=90\n",
    "    #between 97-122, are lowercase\n",
    "    for character in text:\n",
    "        #print(character)\n",
    "        code=ord(character)\n",
    "        if 65<=code<=90:\n",
    "            code+=32\n",
    "            character=chr(code) #converts numeric code [ascii] into character\n",
    "\n",
    "        result+=character\n",
    "    #print(result)\n",
    "    return result\n",
    "\n",
    "#toLower()\n",
    "toUpper()\n",
    "def main():\n",
    "    resultFROMlower= toLower\n",
    "    print(\"Returned string from calling to lower\", resultFROMlower)\n",
    "main()\n",
    "\n"
   ]
  },
  {
   "cell_type": "markdown",
   "metadata": {},
   "source": [
    "rules for **defining** function\n",
    "- cannot be keyword\n",
    "- cannot have spaces\n",
    "- first character must be a character or underscore\n",
    "- all other characters must be letter or number or underscore\n",
    "- case sensitive "
   ]
  },
  {
   "cell_type": "markdown",
   "metadata": {},
   "source": [
    "1. void functions: executes functions and then terminates\n",
    "2. value-returning function: executes the statement it contains, and then returns a value back to the statement that called it (*input, int, float are examples)*"
   ]
  },
  {
   "cell_type": "markdown",
   "metadata": {},
   "source": [
    "**main function**\n",
    "- calls other functions when they are needed"
   ]
  },
  {
   "cell_type": "code",
   "execution_count": null,
   "metadata": {},
   "outputs": [],
   "source": [
    "import math\n",
    "#pi=radius**2\n",
    "def circleArea(radius):\n",
    "    area = math.pi*radius**2\n",
    "    return area"
   ]
  },
  {
   "cell_type": "markdown",
   "metadata": {},
   "source": [
    "**scopes**\n",
    "- functions with different scopes do not have access to each other\n",
    "- **argument**: piece of data that is sent into a function"
   ]
  },
  {
   "cell_type": "code",
   "execution_count": 6,
   "metadata": {},
   "outputs": [
    {
     "name": "stdout",
     "output_type": "stream",
     "text": [
      "accessing today from planet a: monday\n",
      "10\n",
      "accessing today from planet b: friday\n"
     ]
    }
   ],
   "source": [
    "today=\"monday\"\n",
    "\n",
    "\n",
    "def planetA():\n",
    "    myVar=10\n",
    "    print(\"accessing today from planet a:\", today)\n",
    "    planetB(myVar)\n",
    "\n",
    "def planetB(someValue):\n",
    "    today=\"friday\"\n",
    "    print(someValue)\n",
    "    print(\"accessing today from planet b:\",today)\n",
    "\n",
    "def main():\n",
    "    planetA()\n",
    "    planetB()\n",
    "\n",
    "main()"
   ]
  },
  {
   "cell_type": "markdown",
   "metadata": {},
   "source": [
    "**key word arguments**\n",
    "- makes arugments optional \n",
    "- function_name(argument=**value**)"
   ]
  },
  {
   "cell_type": "markdown",
   "metadata": {},
   "source": [
    "**module**\n",
    "- standard library -- the ones that are always loaded\n",
    "- modules: files that sotres functions of the standard library --> use import "
   ]
  },
  {
   "cell_type": "code",
   "execution_count": null,
   "metadata": {},
   "outputs": [],
   "source": []
  }
 ],
 "metadata": {
  "kernelspec": {
   "display_name": "\"Python/Mu (mu_venv-38-20230828-115040)\"",
   "language": "python",
   "name": "mu_venv-38-20230828-115040"
  },
  "language_info": {
   "codemirror_mode": {
    "name": "ipython",
    "version": 3
   },
   "file_extension": ".py",
   "mimetype": "text/x-python",
   "name": "python",
   "nbconvert_exporter": "python",
   "pygments_lexer": "ipython3",
   "version": "3.8.12"
  },
  "orig_nbformat": 4
 },
 "nbformat": 4,
 "nbformat_minor": 2
}
