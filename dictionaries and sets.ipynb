{
 "cells": [
  {
   "cell_type": "markdown",
   "metadata": {},
   "source": [
    "# sets and dictionaries"
   ]
  },
  {
   "cell_type": "markdown",
   "metadata": {},
   "source": [
    "**dictionary**: object that stores data\n",
    "- each element consists of key and value\n",
    "1. referred to as mapping of key to value\n",
    "2. key must be an immutable object\n",
    "- to retreive a specific value, you **must** use the **key** associated with it\n",
    "- format for creating a dictionary\n",
    "- *dictionary={key1:val1, key2:val2}*"
   ]
  },
  {
   "cell_type": "markdown",
   "metadata": {},
   "source": [
    "dictionaries do not have indexes\n",
    "- to retrieve\n",
    "1. *dictionary[key]*\n",
    "- if *key* in the dictionary, associated value is returned -- otherwise KeyError exception is raised\n",
    "- test whether a key is in a dictionary using the **in** and **not** operators"
   ]
  },
  {
   "cell_type": "markdown",
   "metadata": {},
   "source": [
    "dictionaries are mutable\n",
    "- you can add or delete once created but you do not use .append\n",
    "- *dictionary[new_key]= value\n",
    "- all are unique -- there will be no duplicates;\n",
    "- **same syntax used to add and edit**"
   ]
  },
  {
   "cell_type": "code",
   "execution_count": 1,
   "metadata": {},
   "outputs": [
    {
     "name": "stdout",
     "output_type": "stream",
     "text": [
      "[{'name': 'John', 'seat': 'A23', 'flight': '422', 'boarding class': '2', 'luggage': []}, {'name': 'Jamie', 'seat': 'B23', 'flight': '422', 'boarding class': '3', 'luggage': []}]\n"
     ]
    }
   ],
   "source": [
    "def createPassenger():\n",
    "    passenger={}\n",
    "    name=input(\"Name: \")\n",
    "    seat=input(\"Seat: \")\n",
    "    flightNumber=input(\"Flight Number: \")\n",
    "    boardingClass=input(\"Boarding Class: \")\n",
    "    luggage=[]\n",
    "    \n",
    "    addItem=\"y\"\n",
    "\n",
    "    while addItem.lower == \"y\":\n",
    "        item=input(\"Enter item in luggage: \")\n",
    "        luggage.append(item)\n",
    "        addItem=input(\"Add another item? (y/n): \")\n",
    "\n",
    "    passenger['name']=name\n",
    "    passenger['seat']=seat\n",
    "    passenger['flight']=flightNumber\n",
    "    passenger['boarding class']=boardingClass\n",
    "    passenger['luggage']=luggage\n",
    "\n",
    "    return passenger    \n",
    "\n",
    "def addPassenger(passengersList):\n",
    "    count=int(input(\"How many passengers to add? \"))\n",
    "    for i in range(count):\n",
    "        passenger=createPassenger()\n",
    "        passengersList.append(passenger)\n",
    "    return passengersList\n",
    "\n",
    "def getLuggage(passengersList):\n",
    "    for passenger in passengersList:\n",
    "        print(passenger[\"name\"])\n",
    "        print(\"---------------------\")\n",
    "        for item in passenger[\"luggage\"]:\n",
    "            print(item)\n",
    "\n",
    "def main():\n",
    "    passengersList=[]\n",
    "    passengersList=addPassenger(passengersList)\n",
    "    getLuggage(getLuggage)\n",
    "\n",
    "main()"
   ]
  },
  {
   "cell_type": "code",
   "execution_count": 17,
   "metadata": {},
   "outputs": [
    {
     "name": "stdout",
     "output_type": "stream",
     "text": [
      "{6555: 'Mazda 3', 7836: 'Ford Focus', 6763: 'Dune buggy', 8908: 'Tesla Model 3', 1234: 'VW Bus'}\n",
      "6555 -> Mazda 3\n",
      "7836 -> Ford Focus\n",
      "6763 -> Dune buggy\n",
      "8908 -> Tesla Model 3\n",
      "1234 -> VW Bus\n",
      "[6555, 7836, 6763, 8908, 1234]\n",
      "['Mazda 3', 'Ford Focus', 'Dune buggy', 'Tesla Model 3', 'VW Bus']\n"
     ]
    }
   ],
   "source": [
    "def main():\n",
    "    inventory={\n",
    "        6555:\"Mazda 3\",\n",
    "        7836:\"Toyota GR Supra\",\n",
    "        6763:\"Dune buggy\",\n",
    "        8908:\"Tesla Model 3\"\n",
    "    }\n",
    "    inventory[7836]=\"Ford Focus\"\n",
    "    inventory[1234]=\"VW Bus\"\n",
    "\n",
    "    print(inventory)\n",
    "    #del inventory[8908]\n",
    "    #print(inventory)\n",
    "    \n",
    "    #for VIN in inventory:\n",
    "        #print(VIN, \"=>\", inventory[VIN])\n",
    "\n",
    "    #vin=int(input(\"enter vehicle VIN: \"))\n",
    "    #print(inventory.get(VIN, \"vehicle not in inventory\"))\n",
    "    for vin, vehicle in inventory.items():\n",
    "        print(vin, \"->\", vehicle)\n",
    "\n",
    "    listTuples = list(inventory.items())\n",
    "    #print(\"ALL VEHICLES:\", listTuples)\n",
    "    #print(listTuples[3][1])\n",
    "\n",
    "    myKeys=list(inventory.keys())\n",
    "    print(myKeys)\n",
    "\n",
    "    allCars=list(inventory.values())\n",
    "    print(allCars)\n",
    "\n",
    "\n",
    "main()"
   ]
  },
  {
   "cell_type": "markdown",
   "metadata": {},
   "source": [
    "deleting in dictionary\n",
    "- `del dictionary[key]`"
   ]
  },
  {
   "cell_type": "markdown",
   "metadata": {},
   "source": [
    "### for loops in dictionary\n",
    "- for *key* in *dictionary*"
   ]
  },
  {
   "cell_type": "markdown",
   "metadata": {},
   "source": [
    "dictionary methods\n",
    "- *clear* method: deletes ALL elements in dictionary\n",
    "- `dictionary.clear()`\n",
    "- *get* method: gets value associated with specified key from dictionary\n",
    "- ` dictionary.get(key, default)`\n",
    "- *** default is returned if *key* is not found\n"
   ]
  },
  {
   "cell_type": "markdown",
   "metadata": {},
   "source": [
    "- *items* method: returns all dictionary keys and associated values\n",
    "- `dictionary.item()`\n",
    "- *keys* method: returns all dictionary keys as a sequence\n",
    "- `dictionary.keys()`\n",
    "- *values* method: returns all dictionary values\n",
    "- `dictionary.values()`"
   ]
  },
  {
   "cell_type": "markdown",
   "metadata": {},
   "source": [
    "- *pop* method: returns value associated with specified key and removes it from dictionary\n",
    "- `dictionary.pop(key, default)`\n",
    "- **returns** \"default\" **if** *key* **is not found**\n",
    "- *popitem* method: returns the last key-value pair and removes that key-value pair from the dictionary\n",
    "- `dictionary.popitem()`\n",
    "- returned as tuple"
   ]
  },
  {
   "cell_type": "code",
   "execution_count": 25,
   "metadata": {},
   "outputs": [
    {
     "name": "stdout",
     "output_type": "stream",
     "text": [
      "material to study: \n",
      "CS001X chapters: [6, 7, 8, 9, 10, 11, 12]\n",
      "====================\n",
      "CS0134 chapters: [7, 8, 9]\n",
      "====================\n",
      "CS0401 chapters: [5, 6, 8, 10]\n",
      "====================\n",
      "you must review chapters: Course not in to-do list\n",
      "material to study: \n",
      "CS001X chapters: [6, 7, 8, 9, 10, 11, 12]\n",
      "====================\n",
      "CS0134 chapters: [7, 8, 9]\n",
      "====================\n",
      "CS0401 chapters: [5, 6, 8, 10]\n",
      "====================\n",
      "you must review chapters: [5, 6, 8, 10]\n",
      "material to study: \n",
      "CS001X chapters: [6, 7, 8, 9, 10, 11, 12]\n",
      "====================\n",
      "CS0134 chapters: [7, 8, 9]\n",
      "====================\n",
      "you must review chapters: Course not in to-do list\n",
      "material to study: \n",
      "CS001X chapters: [6, 7, 8, 9, 10, 11, 12]\n",
      "====================\n",
      "CS0134 chapters: [7, 8, 9]\n",
      "====================\n",
      "you must review chapters: Course not in to-do list\n",
      "material to study: \n",
      "CS001X chapters: [6, 7, 8, 9, 10, 11, 12]\n",
      "====================\n",
      "CS0134 chapters: [7, 8, 9]\n",
      "====================\n",
      "you must review chapters: Course not in to-do list\n",
      "material to study: \n",
      "CS001X chapters: [6, 7, 8, 9, 10, 11, 12]\n",
      "====================\n",
      "CS0134 chapters: [7, 8, 9]\n",
      "====================\n",
      "you must review chapters: Course not in to-do list\n",
      "material to study: \n",
      "CS001X chapters: [6, 7, 8, 9, 10, 11, 12]\n",
      "====================\n",
      "CS0134 chapters: [7, 8, 9]\n",
      "====================\n",
      "you must review chapters: Course not in to-do list\n",
      "material to study: \n",
      "CS001X chapters: [6, 7, 8, 9, 10, 11, 12]\n",
      "====================\n",
      "CS0134 chapters: [7, 8, 9]\n",
      "====================\n",
      "you must review chapters: Course not in to-do list\n",
      "material to study: \n",
      "CS001X chapters: [6, 7, 8, 9, 10, 11, 12]\n",
      "====================\n",
      "CS0134 chapters: [7, 8, 9]\n",
      "====================\n",
      "you must review chapters: Course not in to-do list\n",
      "material to study: \n",
      "CS001X chapters: [6, 7, 8, 9, 10, 11, 12]\n",
      "====================\n",
      "CS0134 chapters: [7, 8, 9]\n",
      "====================\n",
      "you must review chapters: Course not in to-do list\n",
      "material to study: \n",
      "CS001X chapters: [6, 7, 8, 9, 10, 11, 12]\n",
      "====================\n",
      "CS0134 chapters: [7, 8, 9]\n",
      "====================\n",
      "you must review chapters: Course not in to-do list\n",
      "material to study: \n",
      "CS001X chapters: [6, 7, 8, 9, 10, 11, 12]\n",
      "====================\n",
      "CS0134 chapters: [7, 8, 9]\n",
      "====================\n"
     ]
    }
   ],
   "source": [
    "def toStudy(courses):\n",
    "    print(\"material to study: \")\n",
    "    for course, chapter in courses.items():\n",
    "        print(course, \"chapters:\", chapter)\n",
    "        print(\"=\"*20)\n",
    "\n",
    "def main():\n",
    "    materialToStudy= {\n",
    "            \"CS001X\":[6,7,8,9,10,11,12],\n",
    "            \"CS0134\":[7,8,9],\n",
    "            \"CS0401\":[5,6,8,10]\n",
    "    }\n",
    "    while len(materialToStudy)>0:\n",
    "        toStudy(materialToStudy)\n",
    "        course=input(\"What course are you going to study next? \")\n",
    "        chapters=materialToStudy.pop(course, \"Course not in to-do list\")\n",
    "        print(\"you must review chapters:\", chapters)\n",
    "main()"
   ]
  },
  {
   "cell_type": "markdown",
   "metadata": {},
   "source": [
    "### sets"
   ]
  },
  {
   "cell_type": "markdown",
   "metadata": {},
   "source": [
    "- set: an oject that stores a collection of data in the same way as mathematical set\n",
    "- no duplicates, are useful when data in which the order and frequency of the elements do not matter\n",
    "- are mutable --- but unordered\n",
    "- all itmes must be unique\n",
    "- defined with { }"
   ]
  },
  {
   "cell_type": "markdown",
   "metadata": {},
   "source": [
    "difference between {sets} and {dictionary} -> dictionary has PAIRS\n",
    "- set of strings: {[1,2,3]}\n",
    "- can use len, add, and update to edit\n",
    "- sets can hold different items of data and all data can be different items"
   ]
  },
  {
   "cell_type": "markdown",
   "metadata": {},
   "source": [
    "- `add`: adds an *element* to the set\n",
    "- `update`: adds a group of elements to a set"
   ]
  },
  {
   "cell_type": "code",
   "execution_count": 19,
   "metadata": {},
   "outputs": [
    {
     "name": "stdout",
     "output_type": "stream",
     "text": [
      "{8, 2, 4, 6}\n",
      "4\n",
      "{1, 3, 5, 7}\n",
      "4\n",
      "is odd a subset of all? False\n",
      "{1, 2, 3, 4, 5, 6, 7, 8}\n"
     ]
    }
   ],
   "source": [
    "def populateSet(size, start, step):\n",
    "    mySet=set()\n",
    "    for num in range(start,(size*step)+start, step ):\n",
    "        mySet.add(num)\n",
    "    return mySet\n",
    "def main():\n",
    "    size=int(input(\"How many items should the set have? \"))\n",
    "    even=populateSet(size,2,2)\n",
    "    print(even)\n",
    "    print(len(even))\n",
    "\n",
    "    odd=populateSet(size,1,2)\n",
    "    print(odd)\n",
    "    print(len(odd))\n",
    "\n",
    "    allNumbers=even|odd\n",
    "    odd.add(-1) #this makes it false -- -1 not in allNumbers\n",
    "    print(\"is odd a subset of all?\", odd<=allNumbers)\n",
    "    print(allNumbers)\n",
    "main()"
   ]
  },
  {
   "cell_type": "code",
   "execution_count": 8,
   "metadata": {},
   "outputs": [
    {
     "name": "stdout",
     "output_type": "stream",
     "text": [
      "{'Tom', 'o', 'John', 'h', 'J', 'n'}\n"
     ]
    }
   ],
   "source": [
    "def main():\n",
    "    namesSet={\"Tom\"}\n",
    "    namesSet.add(\"John\")\n",
    "    #namesSet.update(\"John\")  -- will break single item into multiple pieces\n",
    "    print(namesSet)\n",
    "main()"
   ]
  },
  {
   "cell_type": "code",
   "execution_count": 9,
   "metadata": {},
   "outputs": [
    {
     "name": "stdout",
     "output_type": "stream",
     "text": [
      "['Batman', 'Captain Marvel', 'Flash', 'Green Lantern', 'Robin', 'Wonder Woman']\n"
     ]
    }
   ],
   "source": [
    "def main():\n",
    "    names=[\"Batman\", \"Green Lantern\", \"Flash\", \"Batman\", \n",
    "           \"Batman\", \"Flash\", \"Robin\", \"Wonder Woman\", \n",
    "           \"Captain Marvel\", \"Flash\", \"Flash\"]\n",
    "    noDuplicates=list(set(names))\n",
    "    noDuplicates.sort()\n",
    "    print(noDuplicates)\n",
    "main()"
   ]
  },
  {
   "cell_type": "markdown",
   "metadata": {},
   "source": [
    "deleting elements\n",
    "- `remove` - raises KeyError exception\n",
    "- `discard` - does not raise exception**\n",
    "- `clear` - clears all elements in set"
   ]
  },
  {
   "cell_type": "markdown",
   "metadata": {},
   "source": [
    "union of two sets\n",
    ": a set that contains all the elements of both sets\n",
    "- to find: use `union`\n",
    "- `set1.union(set2)`\n",
    "- or\n",
    "- `set1 | set2`"
   ]
  },
  {
   "cell_type": "markdown",
   "metadata": {},
   "source": [
    "differences of sets: a third set that contains what does not appear in both\n",
    "- use `\"-\"` between two sets"
   ]
  },
  {
   "cell_type": "markdown",
   "metadata": {},
   "source": [
    "finding symmetric difference\n",
    "- use `\"^\"`"
   ]
  },
  {
   "cell_type": "markdown",
   "metadata": {},
   "source": [
    "Subset and Superset\n",
    "- subset: `<=`\n",
    "- superset: `>=`"
   ]
  },
  {
   "cell_type": "code",
   "execution_count": 16,
   "metadata": {},
   "outputs": [
    {
     "name": "stdout",
     "output_type": "stream",
     "text": [
      "All Students: {'Tom', 'Berta', 'Sam', 'Hilda', 'V', 'Gaby', 'Eddie', 'Bre', 'Charlie', 'Don', 'Abbie', 'Frank'}\n",
      "Took both courses: {'Gaby', 'Bre'}\n",
      "only cs: {'Frank', 'Eddie', 'Abbie', 'Charlie'}\n",
      "only bio: {'Tom', 'Berta', 'Sam', 'Hilda', 'V', 'Don'}\n",
      "students who only took only one course:  {'Tom', 'Berta', 'Sam', 'Hilda', 'V', 'Eddie', 'Charlie', 'Don', 'Abbie', 'Frank'}\n"
     ]
    }
   ],
   "source": [
    "def main():\n",
    "    CS001X={\"Abbie\", \"Bre\", \"Charlie\", \"Eddie\", \"Frank\", \"Gaby\"}\n",
    "    BIO1940={\"Berta\", \"Sam\", \"Tom\", \"Don\", \"Bre\", \"V\", \"Gaby\", \"Hilda\"}\n",
    "    allStudents=CS001X|BIO1940  #union\n",
    "    print(\"All Students:\", allStudents)\n",
    "\n",
    "    bothCourses=CS001X & BIO1940 #intersection\n",
    "    print(\"Took both courses:\", bothCourses)\n",
    "\n",
    "    onlyCS001x=CS001X-BIO1940\n",
    "    onlyBIO1940=BIO1940-CS001X\n",
    "    print(\"only cs:\", onlyCS001x)\n",
    "    print(\"only bio:\", onlyBIO1940)\n",
    "\n",
    "    onlyONECOURSE=CS001X^BIO1940\n",
    "    print(\"students who only took only one course: \", onlyONECOURSE)\n",
    "\n",
    "main()"
   ]
  }
 ],
 "metadata": {
  "kernelspec": {
   "display_name": "\"Python/Mu (mu_venv-38-20230828-115040)\"",
   "language": "python",
   "name": "mu_venv-38-20230828-115040"
  },
  "language_info": {
   "codemirror_mode": {
    "name": "ipython",
    "version": 3
   },
   "file_extension": ".py",
   "mimetype": "text/x-python",
   "name": "python",
   "nbconvert_exporter": "python",
   "pygments_lexer": "ipython3",
   "version": "3.8.12"
  }
 },
 "nbformat": 4,
 "nbformat_minor": 2
}
